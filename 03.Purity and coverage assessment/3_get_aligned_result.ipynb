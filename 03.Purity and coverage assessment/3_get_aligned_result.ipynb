{
 "cells": [
  {
   "cell_type": "code",
   "execution_count": null,
   "metadata": {},
   "outputs": [],
   "source": [
    "#find specific species\n",
    "def read_and_process_file(input_file_path, output_file_path):\n",
    "    with open(input_file_path, 'r') as file, open(output_file_path, 'w') as output_file:\n",
    "        next(file)  # Skip the first line\n",
    "        n=0\n",
    "        for line in file:\n",
    "            parts = line.strip().split(', ')\n",
    "            if len(parts) >= 3:\n",
    "                name, purity, bacteria = parts[0], float(parts[1]), parts[2]\n",
    "                if bacteria == \"species\": #the species you want to analysis\n",
    "                    n=n+1\n",
    "                    original_file_name = name\n",
    "                    output_file.write(original_file_name  + '\\n')\n",
    "        print(n)\n",
    "input_file_path = 'purity_minimap.txt'  # Replace with your actual input file path\n",
    "output_file_path = 'fastq_list_species.txt'  # Replace with your desired output file path\n",
    "\n",
    "read_and_process_file(input_file_path, output_file_path)\n"
   ]
  },
  {
   "cell_type": "code",
   "execution_count": null,
   "metadata": {},
   "outputs": [],
   "source": [
    "#purity plot for the specific species\n",
    "import matplotlib.pyplot as plt\n",
    "import numpy as np\n",
    "\n",
    "def extract_purity_and_plot_histogram(file_path):\n",
    "    purities = []\n",
    "\n",
    "    with open(file_path, 'r') as file:\n",
    "        next(file)  # Skip the first line\n",
    "        for line in file:\n",
    "            parts = line.strip().split(', ')\n",
    "            if len(parts) >= 3 and parts[2] == \"species\":\n",
    "                purity = float(parts[1])\n",
    "                purities.append(purity)\n",
    "\n",
    "    # Plotting the histogram\n",
    "    bins = np.arange(0, 105, 5)\n",
    "    plt.hist(purities, bins=bins, edgecolor='black')\n",
    "    plt.title('Purity Distribution for species')\n",
    "    plt.xlabel('Purity (%)')\n",
    "    plt.ylabel('Frequency')\n",
    "    plt.show()\n",
    "\n",
    "file_path = 'purity_minimap2.txt'  # Replace with your actual file path\n",
    "extract_purity_and_plot_histogram(file_path)\n"
   ]
  },
  {
   "cell_type": "markdown",
   "metadata": {},
   "source": [
    "Then you should turn to coverage.sh"
   ]
  }
 ],
 "metadata": {
  "kernelspec": {
   "display_name": "base",
   "language": "python",
   "name": "python3"
  },
  "language_info": {
   "codemirror_mode": {
    "name": "ipython",
    "version": 3
   },
   "file_extension": ".py",
   "mimetype": "text/x-python",
   "name": "python",
   "nbconvert_exporter": "python",
   "pygments_lexer": "ipython3",
   "version": "3.9.16"
  }
 },
 "nbformat": 4,
 "nbformat_minor": 2
}
